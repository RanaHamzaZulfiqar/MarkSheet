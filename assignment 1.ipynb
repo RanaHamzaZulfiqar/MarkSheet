{
 "cells": [
  {
   "cell_type": "code",
   "execution_count": 1,
   "metadata": {},
   "outputs": [
    {
     "name": "stdout",
     "output_type": "stream",
     "text": [
      "MARKSHEET\n",
      "Enter the marks you got in Functional English: \n",
      "86\n",
      "Enter the marks you got in Computing Fundamental: \n",
      "82\n",
      "Enter the marks you got in Programming: \n",
      "81\n",
      "Enter the marks you got in Data Structure: \n",
      "86\n",
      "Enter the marks you got in Human Interaction: \n",
      "79\n",
      "Total marks obtained:  414\n",
      "percentage%:  75.27272727272727\n",
      "Grade:  B+\n",
      "GPA:  3.33\n"
     ]
    }
   ],
   "source": [
    "print(\"MARKSHEET\")\n",
    "print(\"Enter the marks you got in Functional English: \")\n",
    "number1 = int(input())\n",
    "print(\"Enter the marks you got in Computing Fundamental: \")\n",
    "number2 = int(input())\n",
    "print(\"Enter the marks you got in Programming: \")\n",
    "number3 = int(input())\n",
    "print(\"Enter the marks you got in Data Structure: \")\n",
    "number4 = int(input())\n",
    "print(\"Enter the marks you got in Human Interaction: \")\n",
    "number5 = int(input())\n",
    "\n",
    "total_marks = 550\n",
    "obtained_marks = (int(number1 + number2 + number3 + number4 + number5))\n",
    "print(\"Total marks obtained: \", obtained_marks)\n",
    "percentage = float(obtained_marks / total_marks) * 100\n",
    "print(\"percentage%: \", percentage)\n",
    "\n",
    "if percentage >= 85:\n",
    "    grade = \"A\"\n",
    "    gpa = \"4\"\n",
    "    print(\"Grade: \", grade)\n",
    "    print(\"GPA: \",gpa)\n",
    "elif (percentage < 85) & (percentage >= 80):\n",
    "    grade = \"A-\"\n",
    "    gpa = \"3.67\"\n",
    "    print(\"Grade: \", grade)\n",
    "    print(\"GPA: \",gpa)\n",
    "elif (percentage < 80) & (percentage >= 75):\n",
    "    grade = \"B+\"\n",
    "    gpa = \"3.33\"\n",
    "    print(\"Grade: \", grade)\n",
    "    print(\"GPA: \",gpa)\n",
    "elif (percentage < 75) & (percentage >= 72):\n",
    "    grade = \"B\"\n",
    "    gpa = \"3.00\"\n",
    "    print(\"Grade: \", grade)\n",
    "    print(\"GPA: \",gpa)\n",
    "elif (percentage < 72) & (percentage >= 67):\n",
    "    grade = \"B-\"\n",
    "    gpa = \"2.67\"\n",
    "    print(\"Grade: \", grade)\n",
    "    print(\"GPA: \",gpa)\n",
    "     \n",
    "    print(\"You need a improvement\")"
   ]
  },
  {
   "cell_type": "code",
   "execution_count": null,
   "metadata": {},
   "outputs": [],
   "source": []
  }
 ],
 "metadata": {
  "kernelspec": {
   "display_name": "Python 3",
   "language": "python",
   "name": "python3"
  },
  "language_info": {
   "codemirror_mode": {
    "name": "ipython",
    "version": 3
   },
   "file_extension": ".py",
   "mimetype": "text/x-python",
   "name": "python",
   "nbconvert_exporter": "python",
   "pygments_lexer": "ipython3",
   "version": "3.6.7"
  }
 },
 "nbformat": 4,
 "nbformat_minor": 2
}
